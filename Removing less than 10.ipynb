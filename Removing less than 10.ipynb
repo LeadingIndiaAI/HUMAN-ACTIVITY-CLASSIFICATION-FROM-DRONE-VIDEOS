{
 "cells": [
  {
   "cell_type": "code",
   "execution_count": 1,
   "metadata": {},
   "outputs": [],
   "source": [
    "import pandas as pd\n",
    "import numpy as np"
   ]
  },
  {
   "cell_type": "code",
   "execution_count": 2,
   "metadata": {},
   "outputs": [],
   "source": [
    "cols = ['no_keypoints','confidence','no_persons']\n",
    "for i in range(1,19):\n",
    "    cols.append('x'+str(i))\n",
    "    cols.append('y'+str(i))\n",
    "cols.append('class')"
   ]
  },
  {
   "cell_type": "code",
   "execution_count": 3,
   "metadata": {},
   "outputs": [],
   "source": [
    "def remove(path,file,n):\n",
    "    for i in range(1,n+1):\n",
    "        name =  file + '-' + str(i) + '.mp4.csv'\n",
    "        df = pd.read_csv(path+name,header=None)\n",
    "        df.columns = cols\n",
    "        # removing rows having less than 6 keypoinnts\n",
    "        df = df[df['no_keypoints']>=13]\n",
    "        \n",
    "        final_path = 'removing_less_than_ten/' + name\n",
    "        df.to_csv(final_path,index = False)"
   ]
  },
  {
   "cell_type": "markdown",
   "metadata": {},
   "source": [
    "### Removig Negatives in Fall"
   ]
  },
  {
   "cell_type": "code",
   "execution_count": 4,
   "metadata": {},
   "outputs": [],
   "source": [
    "file = 'Fall'\n",
    "path = 'Fall/'\n",
    "remove(path,file,5)"
   ]
  },
  {
   "cell_type": "markdown",
   "metadata": {},
   "source": [
    "### Removing Negatives in Jumping"
   ]
  },
  {
   "cell_type": "code",
   "execution_count": 5,
   "metadata": {},
   "outputs": [],
   "source": [
    "file = 'Jumping'\n",
    "path = 'Jumping/'\n",
    "remove(path,file,10)"
   ]
  },
  {
   "cell_type": "markdown",
   "metadata": {},
   "source": [
    "### Removing Negatives in Kicking"
   ]
  },
  {
   "cell_type": "code",
   "execution_count": 6,
   "metadata": {},
   "outputs": [],
   "source": [
    "file = 'Kick'\n",
    "path = 'Kicking/'\n",
    "remove(path,file,26)"
   ]
  },
  {
   "cell_type": "markdown",
   "metadata": {},
   "source": [
    "### Removing Negatives in Punch"
   ]
  },
  {
   "cell_type": "code",
   "execution_count": 7,
   "metadata": {},
   "outputs": [],
   "source": [
    "file = 'punch'\n",
    "path = 'Punch/'\n",
    "remove(path,file,37)"
   ]
  },
  {
   "cell_type": "markdown",
   "metadata": {},
   "source": [
    "### Removing Negatives in Pushing"
   ]
  },
  {
   "cell_type": "code",
   "execution_count": 8,
   "metadata": {},
   "outputs": [],
   "source": [
    "file = 'Pushing'\n",
    "path = 'Pushing/'\n",
    "remove(path,file,22)"
   ]
  },
  {
   "cell_type": "markdown",
   "metadata": {},
   "source": [
    "### Removing Negatives in SOS "
   ]
  },
  {
   "cell_type": "code",
   "execution_count": 9,
   "metadata": {},
   "outputs": [],
   "source": [
    "file = 'SOS'\n",
    "path = 'SOS/'\n",
    "remove(path,file,9)"
   ]
  },
  {
   "cell_type": "markdown",
   "metadata": {},
   "source": [
    "### Removing Negatives in Strangling"
   ]
  },
  {
   "cell_type": "code",
   "execution_count": 10,
   "metadata": {},
   "outputs": [],
   "source": [
    "file = 'strangling'\n",
    "path = 'Strangling/'\n",
    "remove(path,file,10)"
   ]
  },
  {
   "cell_type": "markdown",
   "metadata": {},
   "source": [
    "### Removing Negatives in Swinging Pipe"
   ]
  },
  {
   "cell_type": "code",
   "execution_count": 11,
   "metadata": {},
   "outputs": [],
   "source": [
    "file = 'Swinging Pipe'\n",
    "path = 'Swinging Pipe/'\n",
    "remove(path,file,36)"
   ]
  },
  {
   "cell_type": "markdown",
   "metadata": {},
   "source": [
    "### Removing Negatives in Walking"
   ]
  },
  {
   "cell_type": "code",
   "execution_count": 12,
   "metadata": {},
   "outputs": [],
   "source": [
    "walk = pd.read_csv('Walking/Walking-1_1.mp4.csv',header = None)\n",
    "walk.columns = cols\n",
    "walk = walk[walk['no_keypoints']>=13]\n",
    "walk.to_csv('removing_less_than_ten/Walking-1.mp4.csv',index=False)"
   ]
  },
  {
   "cell_type": "code",
   "execution_count": 13,
   "metadata": {},
   "outputs": [],
   "source": [
    "walk = pd.read_csv('Walking/Walking-1_2.mp4.csv',header = None)\n",
    "walk.columns = cols\n",
    "walk = walk[walk['no_keypoints']>=13]\n",
    "walk.to_csv('removing_less_than_ten/Walking-2.mp4.csv',index=False)"
   ]
  },
  {
   "cell_type": "code",
   "execution_count": 14,
   "metadata": {},
   "outputs": [],
   "source": [
    "walk = pd.read_csv('Walking/Walking-1_3.mp4.csv',header = None)\n",
    "walk.columns = cols\n",
    "walk = walk[walk['no_keypoints']>=13]\n",
    "walk.to_csv('removing_less_than_ten/Walking-3.mp4.csv',index=False)"
   ]
  },
  {
   "cell_type": "code",
   "execution_count": 15,
   "metadata": {},
   "outputs": [],
   "source": [
    "walk = pd.read_csv('Walking/Walking-1_4.mp4.csv',header = None)\n",
    "walk.columns = cols\n",
    "walk = walk[walk['no_keypoints']>=13]\n",
    "walk.to_csv('removing_less_than_ten/Walking-4.mp4.csv',index=False)"
   ]
  },
  {
   "cell_type": "code",
   "execution_count": 16,
   "metadata": {},
   "outputs": [],
   "source": [
    "walk = pd.read_csv('Walking/Walking-2_1.mp4.csv',header = None)\n",
    "walk.columns = cols\n",
    "walk = walk[walk['no_keypoints']>=13]\n",
    "walk.to_csv('removing_less_than_ten/Walking-5.mp4.csv',index=False)"
   ]
  },
  {
   "cell_type": "code",
   "execution_count": 17,
   "metadata": {},
   "outputs": [],
   "source": [
    "walk = pd.read_csv('Walking/Walking-2_2.mp4.csv',header = None)\n",
    "walk.columns = cols\n",
    "walk = walk[walk['no_keypoints']>=13]\n",
    "walk.to_csv('removing_less_than_ten/Walking-6.mp4.csv',index=False)"
   ]
  },
  {
   "cell_type": "code",
   "execution_count": 18,
   "metadata": {},
   "outputs": [],
   "source": [
    "walk = pd.read_csv('Walking/Walking-2_3.mp4.csv',header = None)\n",
    "walk.columns = cols\n",
    "walk = walk[walk['no_keypoints']>=13]\n",
    "walk.to_csv('removing_less_than_ten/Walking-7.mp4.csv',index=False)"
   ]
  },
  {
   "cell_type": "markdown",
   "metadata": {},
   "source": [
    "### Removing Negatives in Sir Data"
   ]
  },
  {
   "cell_type": "code",
   "execution_count": 19,
   "metadata": {},
   "outputs": [],
   "source": [
    "for i in range(1,9):\n",
    "    fall = pd.read_csv('Sir Data(Raw)/fall'+str(i)+'.csv',header=None)\n",
    "    fall.columns = cols\n",
    "    fall = fall[fall['no_keypoints']>=13]\n",
    "    fall['class']='Fall'\n",
    "    fall.to_csv('removing_less_than_ten/Sir Data/fall'+str(i)+'.csv',index=False)"
   ]
  },
  {
   "cell_type": "code",
   "execution_count": 20,
   "metadata": {},
   "outputs": [],
   "source": [
    "for i in range(1,18):\n",
    "    kick = pd.read_csv('Sir Data(Raw)/kick'+str(i)+'.csv',header = None)\n",
    "    kick.columns = cols\n",
    "    kick = kick[kick['no_keypoints']>=13]\n",
    "    kick['class']='kick'\n",
    "    kick.to_csv('removing_less_than_ten/Sir Data/kick'+str(i)+'.csv',index=False)"
   ]
  },
  {
   "cell_type": "code",
   "execution_count": 21,
   "metadata": {},
   "outputs": [],
   "source": [
    "for i in range(1,24):\n",
    "    strn = pd.read_csv('Sir Data(Raw)/str'+str(i)+'.csv',header = None)\n",
    "    strn.columns = cols\n",
    "    strn = strn[strn['no_keypoints']>6]\n",
    "    strn['class']='strangling'\n",
    "    strn.to_csv('removing_less_than_ten/Sir Data/str'+str(i)+'.csv',index=False)"
   ]
  },
  {
   "cell_type": "code",
   "execution_count": 22,
   "metadata": {},
   "outputs": [],
   "source": [
    "for i in range(1,20):\n",
    "    punch = pd.read_csv('Sir Data(Raw)/punch'+str(i)+'.csv',header = None)\n",
    "    punch.columns = cols\n",
    "    punch = punch[punch['no_keypoints']>=13]\n",
    "    punch['class']='punch'\n",
    "    punch.to_csv('removing_less_than_ten/Sir Data/punch'+str(i)+'.csv',index=False)"
   ]
  },
  {
   "cell_type": "code",
   "execution_count": null,
   "metadata": {},
   "outputs": [],
   "source": []
  }
 ],
 "metadata": {
  "kernelspec": {
   "display_name": "Python 3",
   "language": "python",
   "name": "python3"
  },
  "language_info": {
   "codemirror_mode": {
    "name": "ipython",
    "version": 3
   },
   "file_extension": ".py",
   "mimetype": "text/x-python",
   "name": "python",
   "nbconvert_exporter": "python",
   "pygments_lexer": "ipython3",
   "version": "3.7.3"
  }
 },
 "nbformat": 4,
 "nbformat_minor": 2
}
